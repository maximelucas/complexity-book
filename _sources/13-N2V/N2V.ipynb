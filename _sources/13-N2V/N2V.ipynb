{
 "cells": [
  {
   "cell_type": "markdown",
   "metadata": {},
   "source": [
    "# Node2Vec\n",
    "\n",
    "In this notebook we look at how to deploy the `Node2Vec` algorithm. We refer to [this](https://github.com/thibaudmartinez/node2vec) implementation which is particularly efficient, but other solutions are also available."
   ]
  },
  {
   "cell_type": "code",
   "execution_count": 2,
   "metadata": {},
   "outputs": [],
   "source": [
    "import warnings\n",
    "warnings.filterwarnings('ignore')\n",
    "\n",
    "import matplotlib.pyplot as plt\n",
    "from node2vec.model import Node2Vec\n",
    "import pandas as pd\n",
    "from scipy.sparse import csr_matrix\n",
    "import numpy as np\n",
    "from sklearn.metrics import adjusted_mutual_info_score as ami\n",
    "from sklearn.svm import SVC\n",
    "from sklearn.cluster import KMeans\n",
    "\n",
    "from src.CD import *"
   ]
  },
  {
   "cell_type": "markdown",
   "metadata": {},
   "source": [
    "## Community detection\n",
    "\n",
    "As we did for spectral clustering, we can use `Node2Vec` to generate the embeddings and then use a clustering algorithm (such as `k-means`) to perform community detection. Let us check how. As an exercise, check how the algorithm performance varies by changing the parameters ($\\Gamma, k, n, d$)."
   ]
  },
  {
   "cell_type": "code",
   "execution_count": 6,
   "metadata": {},
   "outputs": [
    {
     "name": "stdout",
     "output_type": "stream",
     "text": [
      "α = 2.265552056824437\n"
     ]
    }
   ],
   "source": [
    "'''Generate the graph'''\n",
    "\n",
    "k = 3                                   # number of communities\n",
    "n = 5000                                # number of nodes\n",
    "Γ = 4                                   # ratio c_in/c_out (the larger is alpha, the simpler the problem)\n",
    "c = 9                                   # expected average degree\n",
    "c_in, c_out = 2*c*Γ/(1+Γ), 2*c/(1+Γ)    # connections parameters\n",
    "C = np.ones((k,k))*c_out + np.diag(np.ones(k))*(c_in - c_out) \n",
    "c = (c_in + (k-1)*c_out)/k \n",
    "\n",
    "θ = np.random.uniform(3,12,n)**6        # get a non uniform degree distribution\n",
    "θ = θ/np.mean(θ)\n",
    "φ = np.mean(θ**2)\n",
    "\n",
    "π_v = np.array([1/k for a in range(k)]) # set the sizes of each class\n",
    "Π_v = (np.cumsum([x for x in π_v]))*n\n",
    "\n",
    "label_gt, a = np.zeros(n), 0            # create the label vector\n",
    "for i in range(n):\n",
    "    if i > Π_v[a]:\n",
    "        a = a+1\n",
    "        \n",
    "    label_gt[i] = a\n",
    "\n",
    "label_gt = label_gt.astype(int)         \n",
    "A, label_gt = DCSBM(C,c, label_gt, θ)   # generate the matrix\n",
    "d = A@np.ones(n)                        # consider only the non-isolated nodes\n",
    "idx = d > 0\n",
    "A = A[idx][:,idx]\n",
    "n, _ = A.shape\n",
    "label_gt = label_gt[idx]\n",
    "\n",
    "φ = np.mean(θ**2)\n",
    "α = (c - c_out)*np.sqrt(φ/c)\n",
    "print(f'α = {α}')"
   ]
  },
  {
   "cell_type": "code",
   "execution_count": 7,
   "metadata": {},
   "outputs": [
    {
     "name": "stdout",
     "output_type": "stream",
     "text": [
      "Preprocessing progress: 96.01%%4.01%ing progress: 0Preprocessing progress: \n",
      "Preprocessing transition probabilities: done!\n",
      "Walking progress: 90.01%ing progress: 0%0Walking progress: %0%\n",
      "Simulating random walks: done!\n",
      "Learning embeddings using the Skip-Gram model...\n",
      "Learning embeddings: done!\n",
      "AMI Node2Vec: 0.35515739266801066\n"
     ]
    }
   ],
   "source": [
    "# run Node2Vec\n",
    "dim = 30  \n",
    "src_nodes, dest_nodes = A.nonzero()\n",
    "node2vec_model = Node2Vec(src_nodes, dest_nodes, graph_is_directed = False)\n",
    "node2vec_model.simulate_walks(walk_length = 15, p = 1, q = 1)\n",
    "node2vec_model.learn_embeddings(dimensions = dim, workers = 8)\n",
    "X = node2vec_model.embeddings\n",
    "\n",
    "# perform kmeans\n",
    "label = KMeans(n_clusters = k).fit(X).labels_\n",
    "print(f'AMI Node2Vec: {ami(label, label_gt)}')"
   ]
  },
  {
   "cell_type": "markdown",
   "metadata": {},
   "source": [
    "The matrix $XX^T \\in \\mathbb{R}^{n\\times n}$ can be seen as a proxy of the adjacency matrix. Its rank is certainly smaller or equal to $d$ (by construction), but in the presence of a community structure, we expect that it has exactly $k$ eigenvalues that are far apart from the others. Luckily, the non zero eigenvalues of $XX^T$ are also non zero eigenvalues of $X^TX\\in\\mathbb{R}^{d\\times d}$ that can be efficiently computed in $\\mathcal{O}(nd + d^3)$ operations. We can thus use this method to also estimate the number of communities."
   ]
  },
  {
   "cell_type": "code",
   "execution_count": 8,
   "metadata": {},
   "outputs": [
    {
     "data": {
      "image/png": "[encoded data removed]",
      "text/plain": [
       "<Figure size 432x288 with 1 Axes>"
      ]
     },
     "metadata": {
      "needs_background": "light"
     },
     "output_type": "display_data"
    }
   ],
   "source": [
    "γ = np.linalg.eigvalsh(X.T@X)\n",
    "\n",
    "plt.plot(np.log(γ), marker = 'o', color = 'dodgerblue')\n",
    "plt.show();"
   ]
  },
  {
   "cell_type": "markdown",
   "metadata": {},
   "source": [
    "## Link prediction\n",
    "\n",
    "One of the many possible tasks that can be performed once the embedding is given is *link prediction* that consists in trying to individuate what are the most likely links that may be present in a partially observed network. The quantity $\\mathbf{x}_i^T\\mathbf{x}_j$, in fact, can be computed also for pairs $(ij)\\notin\\mathcal{E}$. When it takes a large value, it means that, even if $i$ and $j$ are not connected, they have a large structural similarity.\n",
    "\n",
    "In the following example we consider a graph in which we only observe 85% of the edges. We use this graph to learn the embedding of the nodes and then use it to guess what are the most likely missing edges."
   ]
  },
  {
   "cell_type": "code",
   "execution_count": 9,
   "metadata": {},
   "outputs": [
    {
     "name": "stdout",
     "output_type": "stream",
     "text": [
      "Learning embeddings using the Skip-Gram model...\n",
      "Preprocessing progress: 97.89%cessing progress: 89.26%86.73%8.91%\n",
      "Preprocessing transition probabilities: done!\n",
      "Walking progress: 91.29%0%progress: 0\n",
      "Simulating random walks: done!\n",
      "Learning embeddings: done!\n"
     ]
    }
   ],
   "source": [
    "# load the dataset\n",
    "df = pd.read_csv('Data/PubMed/PubMed.edges', header = None, names = ['i', 'j'])\n",
    "\n",
    "# map the nodes indices to values between 0 and n\n",
    "all_nodes = np.unique(df.values)\n",
    "n = len(all_nodes)\n",
    "Mapper = dict(zip(all_nodes, np.arange(n)))\n",
    "df.i = df.i.map(lambda x: Mapper[x])\n",
    "df.j = df.j.map(lambda x: Mapper[x])\n",
    "\n",
    "# create a mask, so that only 85% of the data are observed. df_train contains the observed\n",
    "# edges, while df_test the unobserved ones\n",
    "mask = np.random.binomial(1, 0.85, len(df)) == 1\n",
    "df_train = df[mask]\n",
    "df_test = df[~mask]\n",
    "\n",
    "# build the adjacency matrix based on the observed edges\n",
    "A = csr_matrix((np.ones(len(df_train)), (df_train.i, df_train.j)), shape = (n,n))\n",
    "A = (A + A.T).sign()\n",
    "\n",
    "# generate the embedding (adding self loops for convenience)\n",
    "dim = 30\n",
    "Id = diags(np.ones(n))\n",
    "src_nodes, dest_nodes = (A+Id).nonzero()\n",
    "node2vec_model = Node2Vec(src_nodes, dest_nodes, graph_is_directed = False)\n",
    "node2vec_model.simulate_walks(walk_length = 15, p = 1., q = 1.0)\n",
    "node2vec_model.learn_embeddings(dimensions = dim, workers = 8)\n",
    "X = node2vec_model.embeddings"
   ]
  },
  {
   "cell_type": "markdown",
   "metadata": {},
   "source": [
    "We have a set of indices pairs corresponding to existing but unobserved edges. We now create another one by selecting random pairs of indices and compare the distribution of $\\mathbf{x}_i^T\\mathbf{x}_j$ in the two cases. The plot shows that the scalar product has significantly larger values for pairs of nodes corresponding to missing edges, thus showing the possibility of performing link prediction with this embedding-based method."
   ]
  },
  {
   "cell_type": "code",
   "execution_count": 10,
   "metadata": {},
   "outputs": [
    {
     "data": {
      "image/png": "[encoded data removed]",
      "text/plain": [
       "<Figure size 432x288 with 1 Axes>"
      ]
     },
     "metadata": {
      "needs_background": "light"
     },
     "output_type": "display_data"
    }
   ],
   "source": [
    "indeces = np.random.choice(np.arange(n), (len(df_test),2))\n",
    "\n",
    "SimTrue = np.sum(X[df_test.i]*X[df_test.j], axis = 1)\n",
    "SimRdn = np.sum(X[indeces[:,0]]*X[indeces[:,1]], axis = 1)\n",
    "\n",
    "plt.hist(SimTrue, density = True, color = 'orange', edgecolor = 'maroon', alpha = .7, label = 'Real graph edges')\n",
    "plt.hist(SimRdn, density = True, color = 'dodgerblue', edgecolor = 'navy', alpha = .7, label = 'Random pairs')\n",
    "plt.xlabel(r'$\\mathbf{x}_i^T\\mathbf{x}_j$', fontsize = 18)\n",
    "plt.legend(fontsize =  18)\n",
    "plt.yticks([])\n",
    "plt.xticks(fontsize = 16)\n",
    "plt.show();"
   ]
  },
  {
   "cell_type": "code",
   "execution_count": null,
   "metadata": {},
   "outputs": [],
   "source": []
  }
 ],
 "metadata": {
  "kernelspec": {
   "display_name": "base",
   "language": "python",
   "name": "python3"
  },
  "language_info": {
   "codemirror_mode": {
    "name": "ipython",
    "version": 3
   },
   "file_extension": ".py",
   "mimetype": "text/x-python",
   "name": "python",
   "nbconvert_exporter": "python",
   "pygments_lexer": "ipython3",
   "version": "3.9.7"
  }
 },
 "nbformat": 4,
 "nbformat_minor": 2
}
