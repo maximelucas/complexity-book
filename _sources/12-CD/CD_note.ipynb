{
 "cells": [
  {
   "cell_type": "markdown",
   "metadata": {},
   "source": [
    "# Community detection"
   ]
  },
  {
   "cell_type": "code",
   "execution_count": 1,
   "metadata": {},
   "outputs": [],
   "source": [
    "import warnings\n",
    "warnings.filterwarnings('ignore')\n",
    "\n",
    "from copy import copy\n",
    "from time import time\n",
    "from scipy.sparse.linalg import eigs, eigsh\n",
    "from sklearn.metrics import adjusted_mutual_info_score as ami\n",
    "import matplotlib.pyplot as plt\n",
    "\n",
    "from src.CD import *"
   ]
  },
  {
   "cell_type": "markdown",
   "metadata": {},
   "source": [
    "## Louvain algorithm\n",
    "\n",
    "The Louvain algorithm is a greedy strategy to optimize the modularity on networks in order to find a community structure. The modularity is defined as\n",
    "\n",
    "$$\n",
    "\\mathscr{Q}_A^{\\rm Mod}(\\mathbf{\\ell}) = \\frac{1}{2|\\mathcal{E}|}\\sum_{i,j\\in\\mathcal{V}}\\left(A_{ij} - \\frac{d_id_j}{2|\\mathcal{E}}\\right)\\delta(\\ell_i,\\ell_j).\n",
    "$$\n",
    "\n",
    "This method does not require any prior knowledge of the input graph and it also outputs the number of communities. In many cases, however, the inferred node partition correspond to one of the many local minima of the modularity cost function: these local minima are many, hardly distinguishable in terms of modularity and uncorrelated with one-another. Moreover, the Louvain algorithm can find high modularity partitions also in completely random networks: keep this in mind when you are using it! \n",
    "\n",
    "\n",
    "### Modularity maximization on a random graph"
   ]
  },
  {
   "cell_type": "code",
   "execution_count": 2,
   "metadata": {},
   "outputs": [],
   "source": [
    "import sknetwork as skn"
   ]
  },
  {
   "cell_type": "code",
   "execution_count": 3,
   "metadata": {},
   "outputs": [
    {
     "name": "stdout",
     "output_type": "stream",
     "text": [
      "Computation time: 0.23760414123535156\n",
      "Estimated number of classes = 232\n",
      "Modularity = 0.43279801045920524\n"
     ]
    }
   ],
   "source": [
    "n = 30000   # number of nodes\n",
    "c = 5     # expected average degree\n",
    "\n",
    "A = ErdosRenyi(n, c)\n",
    "\n",
    "t0 = time()\n",
    "louvain = skn.clustering.Louvain()\n",
    "label = louvain.fit_predict(A)\n",
    "k = len(np.unique(label))\n",
    "print(f'Computation time: {time() - t0}')\n",
    "print(f'Estimated number of classes = {k}')\n",
    "print(f'Modularity = {ComputeModularity(A, label)}')"
   ]
  },
  {
   "cell_type": "markdown",
   "metadata": {},
   "source": [
    "Note that we achieve a very large modularity value with a large number of communities on a completely random network. As an exercise, see how the results change tuning the value of `c`. We now also test different runs of the algorithm on the **same** graph and measure the similarity between the partitions in terms od *adjusted mutual information*.\n"
   ]
  },
  {
   "cell_type": "code",
   "execution_count": 4,
   "metadata": {},
   "outputs": [
    {
     "name": "stdout",
     "output_type": "stream",
     "text": [
      "Computing the partitions\n",
      "Progress: [========================>] 100%\n",
      " Comparing the partitions\n",
      "Progress: [========================>] 100%\r"
     ]
    }
   ],
   "source": [
    "labels, ami_score, mod_values = [], [], []\n",
    "n_runs = 100 # number of runs of modularity maximization\n",
    "\n",
    "print('Computing the partitions')\n",
    "for t in range(n_runs):\n",
    "    print(\"Progress: [%-25s] %d%%\" % ('='*(int((t+1)  /n_runs*25)-1) + '>', (t+1)/(n_runs)*100), end = '\\r')\n",
    "    louvain = skn.clustering.Louvain(shuffle_nodes = True) \n",
    "    labels.append(louvain.fit_predict(A))\n",
    "    mod_values.append(ComputeModularity(A, labels[-1]))\n",
    "\n",
    "# sample 100 random pairs\n",
    "idx1, idx2 = np.random.choice(np.arange(n_runs), (100,2)).T\n",
    "\n",
    "print('\\n Comparing the partitions')\n",
    "for counter, (i, j) in enumerate(zip(idx1, idx2)):\n",
    "    print(\"Progress: [%-25s] %d%%\" % ('='*(int((counter+1)  /len(idx1)*25)-1) + '>', (counter+1)/(len(idx1))*100), end = '\\r')\n",
    "    if i != j:\n",
    "        ami_score.append(ami(labels[i], labels[j]))"
   ]
  },
  {
   "cell_type": "code",
   "execution_count": 5,
   "metadata": {},
   "outputs": [
    {
     "data": {
      "image/png": "[encoded data removed]",
      "text/plain": [
       "<Figure size 864x360 with 2 Axes>"
      ]
     },
     "metadata": {
      "needs_background": "light"
     },
     "output_type": "display_data"
    }
   ],
   "source": [
    "fig, ax = plt.subplots(1, 2, figsize = (12,5))\n",
    "\n",
    "ax[0].hist(ami_score, color = 'teal', edgecolor = 'navy', alpha = 0.5)\n",
    "ax[0].set_xlabel('AMI', fontsize = 18)\n",
    "ax[0].tick_params(axis='x', which='major', labelsize=15)\n",
    "ax[0].tick_params(axis='y', which='major', labelsize=0)\n",
    "\n",
    "ax[1].hist(mod_values, color = 'orange', edgecolor = 'maroon', alpha = 0.5)\n",
    "ax[1].set_xlabel('Modularity', fontsize = 18)\n",
    "ax[1].tick_params(axis='x', which='major', labelsize=15)\n",
    "ax[1].tick_params(axis='y', which='major', labelsize=0)\n",
    "\n",
    "plt.tight_layout()\n",
    "plt.show();"
   ]
  },
  {
   "cell_type": "markdown",
   "metadata": {},
   "source": [
    "## Modularity maximization on a graph with communities\n",
    "\n",
    "In the previous section we considered a corner case in which there was absolutely no structure in the graph. The limitations associated with Louvain, however, are still observed in the presence of a community structure but are alleviated as the communities are more and more apart. We generate a graph from the *Stochastic block model* with $k=2$ communities so that\n",
    "\n",
    "$$\n",
    "\\mathbb{P}(A_{ij}=1) = \\begin{cases} \\frac{c_{\\rm in}}{n} \\quad{\\rm if~} \\ell_i = \\ell_j \\\\\n",
    "                                    \\frac{c_{\\rm out}}{n} \\quad{\\rm else}\n",
    "                        \\end{cases}\n",
    "$$\n",
    "\n",
    "> **EXERCISE**: see how the result varies in terms of estimated number of communities, ami score and modularity by changing the ratio $\\Gamma = c_{\\rm in}/c_{\\rm out}$."
   ]
  },
  {
   "cell_type": "code",
   "execution_count": 6,
   "metadata": {},
   "outputs": [
    {
     "name": "stdout",
     "output_type": "stream",
     "text": [
      "α = 1.0540925533894596\n",
      "Computation time: 0.4412708282470703\n",
      "Estimated number of classes = 29\n",
      "Modularity = 0.25974982716260403\n",
      "AMI with ground truth partition {0.0004586513137530541}\n"
     ]
    }
   ],
   "source": [
    "k = 2                            # number of communities\n",
    "n = 30000   \n",
    "α = 2                            # ratio c_in/c_out (the larger is alpha, the simpler the problem)\n",
    "c = 10                           # expected average degree\n",
    "c_in, c_out = 2*c*α/(1+α), 2*c/(1+α)  # connections parameters\n",
    "C = np.ones((k,k))*c_out + np.diag(np.ones(k))*(c_in - c_out) \n",
    "c = (c_in + (k-1)*c_out)/k \n",
    "print(f'α = {(c - c_out)/np.sqrt(c)}')\n",
    "\n",
    "label_gt = np.ones(n)\n",
    "label_gt[:int(n/2)] = 0\n",
    "label_gt = label_gt.astype(int) # label vector\n",
    "A, label = DCSBM(C,c, label_gt, np.ones(n))\n",
    "\n",
    "t0 = time()\n",
    "louvain = skn.clustering.Louvain()\n",
    "label = louvain.fit_predict(A)\n",
    "k = len(np.unique(label))\n",
    "print(f'Computation time: {time() - t0}')\n",
    "print(f'Estimated number of classes = {k}')\n",
    "print(f'Modularity = {ComputeModularity(A, label)}')\n",
    "print(f'AMI with ground truth partition', {ami(label, label_gt)})"
   ]
  },
  {
   "cell_type": "markdown",
   "metadata": {},
   "source": [
    "## Bayesian inference\n",
    "\n",
    "In the Bayesian framework, we consider community detection as an inference problem in which the labels have to be estimated from the adjacency matrix, which is a realization of a random variable.\n",
    "\n",
    "$$\n",
    "\\mathbb{P}(\\mathbf{\\ell}|A) \\propto \\mathbb{P}(A|\\mathbf{\\ell})\n",
    "$$\n",
    "\n",
    "A first method is to maximize the the posterior distribution, or, equivalently, minimize the description length. Here we pick a smaller value of $n$ because these algorithms are slower."
   ]
  },
  {
   "cell_type": "code",
   "execution_count": 7,
   "metadata": {},
   "outputs": [],
   "source": [
    "from graph_tool import *\n",
    "import graph_tool.all as gt"
   ]
  },
  {
   "cell_type": "code",
   "execution_count": 8,
   "metadata": {},
   "outputs": [
    {
     "name": "stdout",
     "output_type": "stream",
     "text": [
      "α = 1.8973665961010275\n"
     ]
    }
   ],
   "source": [
    "k = 2                            # number of communities\n",
    "n = 3000   \n",
    "Γ = 4                            # ratio c_in/c_out (the larger is alpha, the simpler the problem)\n",
    "c = 10                           # expected average degree\n",
    "c_in, c_out = 2*c*Γ/(1+Γ), 2*c/(1+Γ)  # connections parameters\n",
    "C = np.ones((k,k))*c_out + np.diag(np.ones(k))*(c_in - c_out) \n",
    "c = (c_in + (k-1)*c_out)/k \n",
    "print(f'α = {(c - c_out)/np.sqrt(c)}')\n",
    "\n",
    "label_gt = np.ones(n)\n",
    "label_gt[:int(n/2)] = 0\n",
    "label_gt = label_gt.astype(int) # label vector\n",
    "A, label = DCSBM(C,c, label_gt, np.ones(n))"
   ]
  },
  {
   "cell_type": "code",
   "execution_count": 9,
   "metadata": {},
   "outputs": [
    {
     "name": "stdout",
     "output_type": "stream",
     "text": [
      "Computation time: 10.817868947982788\n",
      "Modularity = 0.2777623274533254\n",
      "AMI with ground truth partition {0.33976044084635443}\n"
     ]
    }
   ],
   "source": [
    "g = gt.Graph(directed=False)\n",
    "g.add_edge_list(np.transpose(A.nonzero()))\n",
    "t0 = time()\n",
    "state = gt.minimize_blockmodel_dl(g, multilevel_mcmc_args=dict(B_max = 10))\n",
    "label = np.array([state.get_blocks()[i] for i in range(n)])\n",
    "print(f'Computation time: {time() - t0}')\n",
    "print(f'Modularity = {ComputeModularity(A, label)}')\n",
    "print(f'AMI with ground truth partition', {ami(label, label_gt)})"
   ]
  },
  {
   "cell_type": "markdown",
   "metadata": {},
   "source": [
    "Instead of maximizing the posterior, we can sample from it. It takes longer, but it also potentially gives access to estimating the full marginals."
   ]
  },
  {
   "cell_type": "code",
   "execution_count": 10,
   "metadata": {},
   "outputs": [
    {
     "name": "stdout",
     "output_type": "stream",
     "text": [
      "Computation time: 211.1382110118866>] 100%\n",
      "Modularity = 0.16512517213321928\n",
      "AMI with ground truth partition {0.3461689657279911}\n"
     ]
    }
   ],
   "source": [
    "n_iter = 1000\n",
    "t0 = time()\n",
    "\n",
    "for i in range(n_iter): # this should be sufficiently large\n",
    "    print(\"Progress: [%-25s] %d%%\" % ('='*(int((i+1)/n_iter*25)-1) + '>', (i+1)/n_iter*100), end = '\\r')\n",
    "    state.gibbs_sweep(niter=10, allow_new_group = False)\n",
    "\n",
    "label = np.array([state.get_blocks()[i] for i in range(n)])\n",
    "print(f'Computation time: {time() - t0}')\n",
    "print(f'Modularity = {ComputeModularity(A, label)}')\n",
    "print(f'AMI with ground truth partition', {ami(label, label_gt)})"
   ]
  },
  {
   "cell_type": "markdown",
   "metadata": {},
   "source": [
    "## Spectral clustering\n",
    "\n",
    "\n",
    "Here we will perform community detection using several spectral algorithms. We defined a function `SpectralClustering` that always takes the same form, to which we pass the matrix $M$ used to compute the eigenvectors, their position and the number of eigenvectors to be computed. Note that this function can only be deployed for Hermitian matrix of size $(n \\times n)$. In the other  cases, the source code must be adapted.\n",
    "\n",
    "### Graph Laplacian\n",
    "\n",
    "\n",
    "The first method we consider is based upon the graph Laplacian $L = D-A$. In this case we compute the eigenvectors associated with the smallest eigenvalues. We consider a sufficiently dense regime (see what happens in the case of sparse graphs). For simple problems (large $\\Gamma$) we can correctly recover the classes, but decreasing it, the performance suddenly drops from a non-zero value to zero. Can you guess why?"
   ]
  },
  {
   "cell_type": "code",
   "execution_count": 5,
   "metadata": {},
   "outputs": [
    {
     "name": "stdout",
     "output_type": "stream",
     "text": [
      "α = 1.8\n"
     ]
    }
   ],
   "source": [
    "k = 2                                   # number of communities\n",
    "n = 5000                               # number of nodes\n",
    "Γ = 4                                   # ratio c_in/c_out (the larger is alpha, the simpler the problem)\n",
    "c = 9                                   # expected average degree\n",
    "c_in, c_out = 2*c*Γ/(1+Γ), 2*c/(1+Γ)    # connections parameters\n",
    "C = np.ones((k,k))*c_out + np.diag(np.ones(k))*(c_in - c_out) \n",
    "c = (c_in + (k-1)*c_out)/k \n",
    "\n",
    "θ = np.ones(n)\n",
    "\n",
    "π_v = np.array([1/k for a in range(k)])\n",
    "Π_v = (np.cumsum([x for x in π_v]))*n\n",
    "\n",
    "label_gt, a = np.zeros(n), 0\n",
    "for i in range(n):\n",
    "    if i > Π_v[a]:\n",
    "        a = a+1\n",
    "        \n",
    "    label_gt[i] = a\n",
    "\n",
    "label_gt = label_gt.astype(int)\n",
    "A, label_gt = DCSBM(C,c, label_gt, θ)\n",
    "n, _ = A.shape\n",
    "\n",
    "φ = np.mean(θ**2)\n",
    "α = (c - c_out)*np.sqrt(φ/c)\n",
    "print(f'α = {α}')"
   ]
  },
  {
   "cell_type": "code",
   "execution_count": 12,
   "metadata": {},
   "outputs": [
    {
     "name": "stdout",
     "output_type": "stream",
     "text": [
      "Computation time: 0.25074052810668945\n",
      "Modularity = 0.0\n",
      "AMI with ground truth partition {2.3042919162882692e-07}\n"
     ]
    }
   ],
   "source": [
    "d = A@np.ones(n)\n",
    "D = diags(d)\n",
    "L = D - A\n",
    "\n",
    "t0 = time()\n",
    "label = SpectralClustering(L, 'SA', k)\n",
    "print(f'Computation time: {time() - t0}')\n",
    "print(f'Modularity = {ComputeModularity(A, label)}')\n",
    "print(f'AMI with ground truth partition', {ami(label, label_gt)})"
   ]
  },
  {
   "cell_type": "markdown",
   "metadata": {},
   "source": [
    "### Adjacency matrix\n",
    "\n",
    "The adjacency matrix has a smoother transition, but it unable to reach the detectability threshold. To see this, set yourself in the sparse regime and change $\\Gamma$ until $\\alpha$ gets close to $1$."
   ]
  },
  {
   "cell_type": "code",
   "execution_count": 13,
   "metadata": {},
   "outputs": [
    {
     "name": "stdout",
     "output_type": "stream",
     "text": [
      "Computation time: 0.4836158752441406\n",
      "Modularity = 0.29069930135308497\n",
      "AMI with ground truth partition {0.6578991958136041}\n"
     ]
    }
   ],
   "source": [
    "t0 = time()\n",
    "label = SpectralClustering(A, 'LA', k)\n",
    "print(f'Computation time: {time() - t0}')\n",
    "print(f'Modularity = {ComputeModularity(A, label)}')\n",
    "print(f'AMI with ground truth partition', {ami(label, label_gt)})"
   ]
  },
  {
   "cell_type": "markdown",
   "metadata": {},
   "source": [
    "### Bethe-Hessian\n",
    "\n",
    "This matrix is adapted for sparse graphs and it is capable of finding a non-trivial community structure as soon as theoretically possible. Compare the performance of this algorithm against the other two for different values of $\\Gamma$."
   ]
  },
  {
   "cell_type": "code",
   "execution_count": 6,
   "metadata": {},
   "outputs": [
    {
     "name": "stdout",
     "output_type": "stream",
     "text": [
      "Computation time: 0.21099376678466797\n",
      "Modularity = 0.2989031666155732\n",
      "AMI with ground truth partition {0.6882953248394101}\n"
     ]
    }
   ],
   "source": [
    "D = diags(A@np.ones(n))\n",
    "Id = diags(np.ones(n))\n",
    "Bp = BuildBp(A)\n",
    "ρ_, _ = eigs(Bp, k = 1, which = 'LM')\n",
    "ρ = ρ_[0].real\n",
    "r = np.sqrt(ρ)\n",
    "H = (r**2-1)*Id + D - r*A\n",
    "\n",
    "t0 = time()\n",
    "label = SpectralClustering(H, 'SA', k)\n",
    "print(f'Computation time: {time() - t0}')\n",
    "print(f'Modularity = {ComputeModularity(A, label)}')\n",
    "print(f'AMI with ground truth partition', {ami(label, label_gt)})"
   ]
  },
  {
   "cell_type": "markdown",
   "metadata": {},
   "source": [
    "## Belief propagation\n",
    "\n",
    "Recalling that the Bayes optimal solution can be approximated with belief propagation (cavity method), we now see how to deploy it. To speed up the convergence, we initialize it to the result obtained with spectral clustering."
   ]
  },
  {
   "cell_type": "code",
   "execution_count": 15,
   "metadata": {},
   "outputs": [
    {
     "name": "stdout",
     "output_type": "stream",
     "text": [
      "Computation time: 5.10416579246521\n",
      "Modularity = 0.3040515239067221\n",
      "AMI with ground truth partition {0.7618251296221443}\n"
     ]
    }
   ],
   "source": [
    "g = gt.Graph(directed=False)\n",
    "g.add_edge_list(np.transpose(A.nonzero()))\n",
    "\n",
    "t0 = time()\n",
    "state = gt.EMBlockState(g, B = k, init_state = gt.BlockState(g, label))\n",
    "delta, niter = gt.em_infer(state)\n",
    "label_BP = np.array([np.argmax(state.get_vertex_marginals()[i]) for i in range(n)])\n",
    "print(f'Computation time: {time() - t0}')\n",
    "print(f'Modularity = {ComputeModularity(A, label_BP)}')\n",
    "print(f'AMI with ground truth partition', {ami(label_BP, label_gt)})"
   ]
  },
  {
   "cell_type": "markdown",
   "metadata": {},
   "source": [
    "## Estimate $k$ with the Bethe-Hessian"
   ]
  },
  {
   "cell_type": "code",
   "execution_count": 8,
   "metadata": {},
   "outputs": [
    {
     "name": "stdout",
     "output_type": "stream",
     "text": [
      "Estimated number of communities = 2\n",
      "Number of communities = 2\n"
     ]
    }
   ],
   "source": [
    "γ, _ = eigsh(H, k = 50, which = 'SA')\n",
    "kest = np.sum(γ < 0)\n",
    "print(f'Estimated number of communities = {kest}')\n",
    "print(f'Number of communities = {k}')"
   ]
  },
  {
   "cell_type": "code",
   "execution_count": null,
   "metadata": {},
   "outputs": [],
   "source": []
  }
 ],
 "metadata": {
  "kernelspec": {
   "display_name": "base",
   "language": "python",
   "name": "python3"
  },
  "language_info": {
   "codemirror_mode": {
    "name": "ipython",
    "version": 3
   },
   "file_extension": ".py",
   "mimetype": "text/x-python",
   "name": "python",
   "nbconvert_exporter": "python",
   "pygments_lexer": "ipython3",
   "version": "3.10.2"
  }
 },
 "nbformat": 4,
 "nbformat_minor": 2
}
